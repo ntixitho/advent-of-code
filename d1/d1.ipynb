{
 "cells": [
  {
   "cell_type": "code",
   "execution_count": 4,
   "metadata": {},
   "outputs": [
    {
     "name": "stdout",
     "output_type": "stream",
     "text": [
      "1233\n",
      "1275\n"
     ]
    }
   ],
   "source": [
    "with open(\"inp_d1.txt\",'r') as f:\n",
    "    inp = f.read().strip().split(\"\\n\")\n",
    "\n",
    "inp = [int(i) for i in inp]\n",
    "\n",
    "part1(inp)\n",
    "part2(inp)"
   ]
  },
  {
   "cell_type": "code",
   "execution_count": 3,
   "metadata": {},
   "outputs": [],
   "source": [
    "def part1(inp):\n",
    "    increased = 0\n",
    "    for i in range(0,len(inp)-1):\n",
    "        if inp[i]<inp[i+1]:\n",
    "            increased+=1\n",
    "    print(increased)\n",
    "\n",
    "def part2(inp):\n",
    "    increased =0\n",
    "    prev = 0\n",
    "    for i in range(0,len(inp)-2):\n",
    "        three = sum(inp[i:i+3])\n",
    "        if prev < three and prev !=0:\n",
    "            increased +=1\n",
    "        prev = three\n",
    "    print(increased)"
   ]
  },
  {
   "cell_type": "code",
   "execution_count": null,
   "metadata": {},
   "outputs": [],
   "source": []
  }
 ],
 "metadata": {
  "interpreter": {
   "hash": "41668e24efd85bfc8b75dce29ac1f65c8577732116b516c91e8a994ac3120222"
  },
  "kernelspec": {
   "display_name": "Python 3.9.1 64-bit ('env1': conda)",
   "language": "python",
   "name": "python3"
  },
  "language_info": {
   "codemirror_mode": {
    "name": "ipython",
    "version": 3
   },
   "file_extension": ".py",
   "mimetype": "text/x-python",
   "name": "python",
   "nbconvert_exporter": "python",
   "pygments_lexer": "ipython3",
   "version": "3.9.1"
  },
  "orig_nbformat": 4
 },
 "nbformat": 4,
 "nbformat_minor": 2
}
